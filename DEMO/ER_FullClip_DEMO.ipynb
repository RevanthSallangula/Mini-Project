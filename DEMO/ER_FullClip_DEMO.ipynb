{
 "cells": [
  {
   "cell_type": "markdown",
   "metadata": {},
   "source": [
    "# Emotion Recognition: audio + video"
   ]
  },
  {
   "cell_type": "markdown",
   "metadata": {},
   "source": [
    "## Libraries and parameters"
   ]
  },
  {
   "cell_type": "code",
   "execution_count": 1,
   "metadata": {},
   "outputs": [],
   "source": [
    "import os\n",
    "import subprocess\n",
    "import numpy as np\n",
    "import keras\n",
    "\n",
    "import moviepy.editor as mp\n",
    "import cv2\n",
    "import librosa\n",
    "from joblib import load\n",
    "import tkinter as tk"
   ]
  },
  {
   "cell_type": "code",
   "execution_count": 2,
   "metadata": {},
   "outputs": [],
   "source": [
    "emotions_tras = {1:1, 2:4, 3:5, 4:0, 5:3, 6:2, 7:6}\n",
    "emotions = {0:'angry', 1:'calm', 2:'disgust', 3:'fear', 4:'happy', 5:'sad', 6:'surprise'}\n",
    "\n",
    "dataset_path = \"./Examples/\"\n",
    "haar_path = './../Other/haarcascade_frontalface_default.xml'\n",
    "parameters_path = './../Datasets/RAVDESS_audio/std_scaler.bin'\n",
    "models_video_path = \"./../Models/Video Stream/\"\n",
    "models_audio_path = \"./../Models/Audio Stream/\"\n",
    "vlc_path = \"C:/Program Files (x86)/VideoLAN/VLC/vlc.exe\" \n",
    "\n",
    "height_targ = 112\n",
    "width_targ = 112\n",
    "sr = 48000"
   ]
  },
  {
   "cell_type": "markdown",
   "metadata": {},
   "source": [
    "## Select Clip"
   ]
  },
  {
   "cell_type": "code",
   "execution_count": 198,
   "metadata": {},
   "outputs": [],
   "source": [
    "root= tk.Tk()\n",
    "\n",
    "canvas1 = tk.Canvas(root, width=400, height=300, relief='raised')\n",
    "\n",
    "canvas1.pack()\n",
    "\n",
    "label1 = tk.Label(root, text='Select clip to analyse')\n",
    "label1.config(font=('helvetica', 16))\n",
    "canvas1.create_window(200, 25, window=label1)\n",
    "\n",
    "label2 = tk.Label(root, text='Number from 0 to 6:')\n",
    "label2.config(font=('helvetica', 11))\n",
    "canvas1.create_window(200, 100, window=label2)\n",
    "\n",
    "def display_text():\n",
    "   global example\n",
    "   example = int(example.get())\n",
    "   root.destroy\n",
    "\n",
    "example = tk.Entry(root)\n",
    "example.pack()\n",
    "canvas1.create_window(200, 140, window=example)\n",
    "\n",
    "    \n",
    "button1 = tk.Button(text='Select', command=lambda: [display_text(), root.destroy()], font=('helvetica', 12, 'bold'))\n",
    "canvas1.create_window(200, 180, window=button1)\n",
    "\n",
    "root.mainloop()"
   ]
  },
  {
   "cell_type": "code",
   "execution_count": 199,
   "metadata": {},
   "outputs": [],
   "source": [
    "fn = os.listdir(dataset_path)\n",
    "filename = dataset_path + fn[example]\n",
    "label = emotions_tras[int(fn[example].split('-')[2]) - 1] "
   ]
  },
  {
   "cell_type": "code",
   "execution_count": 200,
   "metadata": {},
   "outputs": [],
   "source": [
    "player = subprocess.call([vlc_path, filename, '--play-and-exit'])"
   ]
  },
  {
   "cell_type": "markdown",
   "id": "3d4a2239",
   "metadata": {},
   "source": [
    "## Data preparation"
   ]
  },
  {
   "cell_type": "markdown",
   "metadata": {},
   "source": [
    "### Video"
   ]
  },
  {
   "cell_type": "code",
   "execution_count": 201,
   "metadata": {},
   "outputs": [
    {
     "name": "stdout",
     "output_type": "stream",
     "text": [
      "shape frames: (44, 112, 112)\n"
     ]
    }
   ],
   "source": [
    "cap = cv2.VideoCapture(filename)\n",
    "haar_cascade = cv2.CascadeClassifier(haar_path)\n",
    "frames = []\n",
    "count = 0\n",
    "skip = 3\n",
    "\n",
    "while True:\n",
    "    ret, frame = cap.read()\n",
    "    if (count % skip == 0 and count > 20):\n",
    "        if not ret:\n",
    "            break\n",
    "        frame = cv2.cvtColor(frame, cv2.COLOR_BGR2GRAY)\n",
    "        faces = haar_cascade.detectMultiScale(frame, scaleFactor=1.12, minNeighbors=9)\n",
    "        if len(faces) != 1:\n",
    "            continue\n",
    "        for (x, y, w, h) in faces:\n",
    "            face = frame[y:y + h, x:x + w]\n",
    "\n",
    "        face = cv2.resize(face, (height_targ+10, width_targ+10))\n",
    "        face = face[5:-5, 5:-5]\n",
    "        face = face/255.\n",
    "        frames.append(face)\n",
    "    count += 1\n",
    "\n",
    "frames = np.array(frames)\n",
    "num_frames = len(frames)\n",
    "labels = [label] * num_frames\n",
    "print('shape frames:', frames.shape)"
   ]
  },
  {
   "cell_type": "markdown",
   "metadata": {},
   "source": [
    "### Audio"
   ]
  },
  {
   "cell_type": "markdown",
   "metadata": {},
   "source": [
    "#### audiofile = mp.AudioFileClip(filename).set_fps(sr)\n",
    "audio = audiofile.to_soundarray()\n",
    "audio = audio[int(sr/2):int(sr/2 + sr*3)]\n",
    "audio = np.array([elem[0] for elem in audio])"
   ]
  },
  {
   "cell_type": "code",
   "execution_count": 202,
   "metadata": {},
   "outputs": [
    {
     "name": "stderr",
     "output_type": "stream",
     "text": [
      "WARNING:py.warnings:F:\\Programming\\Anaconda\\Lib\\site-packages\\sklearn\\base.py:347: InconsistentVersionWarning: Trying to unpickle estimator StandardScaler from version 1.0.2 when using version 1.3.0. This might lead to breaking code or invalid results. Use at your own risk. For more info please refer to:\n",
      "https://scikit-learn.org/stable/model_persistence.html#security-maintainability-limitations\n",
      "  warnings.warn(\n",
      "\n"
     ]
    },
    {
     "data": {
      "text/plain": [
       "(1, 128, 282, 1)"
      ]
     },
     "execution_count": 202,
     "metadata": {},
     "output_type": "execute_result"
    }
   ],
   "source": [
    "mel = librosa.power_to_db(librosa.feature.melspectrogram(y=audio, sr = 48000, n_fft = 1024, n_mels = 128, fmin = 50, fmax = 24000)) \n",
    "\n",
    "scaler = load(parameters_path)\n",
    "mel = scaler.transform(mel)\n",
    "\n",
    "mel = np.expand_dims(mel, axis = 2)\n",
    "mel = np.expand_dims(mel, axis = 0)\n",
    "mel.shape"
   ]
  },
  {
   "cell_type": "markdown",
   "metadata": {},
   "source": [
    "## Load models"
   ]
  },
  {
   "cell_type": "markdown",
   "metadata": {},
   "source": [
    "### Video"
   ]
  },
  {
   "cell_type": "code",
   "execution_count": 203,
   "metadata": {},
   "outputs": [
    {
     "name": "stderr",
     "output_type": "stream",
     "text": [
      "WARNING:py.warnings:F:\\Programming\\Anaconda\\Lib\\site-packages\\keras\\src\\layers\\convolutional\\base_conv.py:107: UserWarning: Do not pass an `input_shape`/`input_dim` argument to a layer. When using Sequential models, prefer using an `Input(shape)` object as the first layer in the model instead.\n",
      "  super().__init__(activity_regularizer=activity_regularizer, **kwargs)\n",
      "\n",
      "WARNING:py.warnings:F:\\Programming\\Anaconda\\Lib\\site-packages\\keras\\src\\optimizers\\base_optimizer.py:86: UserWarning: Argument `decay` is no longer supported and will be ignored.\n",
      "  warnings.warn(\n",
      "\n",
      "WARNING:absl:Compiled the loaded model, but the compiled metrics have yet to be built. `model.compile_metrics` will be empty until you train or evaluate the model.\n",
      "WARNING:absl:Error in loading the saved optimizer state. As a result, your model is starting with a freshly initialized optimizer.\n"
     ]
    }
   ],
   "source": [
    "models_list = os.listdir(models_video_path)\n",
    "\n",
    "acc = [float(model.split('[')[1].split(']')[0]) for model in models_list]\n",
    "idx = acc.index(max(acc))                                                       \n",
    "\n",
    "model_video = keras.models.load_model(models_video_path + models_list[idx])\n",
    "# model_video.summary()"
   ]
  },
  {
   "cell_type": "markdown",
   "metadata": {},
   "source": [
    "### Audio"
   ]
  },
  {
   "cell_type": "code",
   "execution_count": 204,
   "metadata": {},
   "outputs": [
    {
     "name": "stderr",
     "output_type": "stream",
     "text": [
      "WARNING:absl:Compiled the loaded model, but the compiled metrics have yet to be built. `model.compile_metrics` will be empty until you train or evaluate the model.\n",
      "WARNING:absl:Error in loading the saved optimizer state. As a result, your model is starting with a freshly initialized optimizer.\n"
     ]
    }
   ],
   "source": [
    "models_list = os.listdir(models_audio_path)\n",
    "model_audio = keras.models.load_model(models_audio_path + models_list[0])\n",
    "# model_audio.summary()"
   ]
  },
  {
   "cell_type": "markdown",
   "metadata": {},
   "source": [
    "## Predictions"
   ]
  },
  {
   "cell_type": "markdown",
   "metadata": {},
   "source": [
    "### Video"
   ]
  },
  {
   "cell_type": "code",
   "execution_count": 205,
   "metadata": {},
   "outputs": [
    {
     "name": "stdout",
     "output_type": "stream",
     "text": [
      "\u001b[1m2/2\u001b[0m \u001b[32m━━━━━━━━━━━━━━━━━━━━\u001b[0m\u001b[37m\u001b[0m \u001b[1m1s\u001b[0m 226ms/step\n"
     ]
    },
    {
     "data": {
      "text/plain": [
       "array([9.0661871e-01, 2.3067656e-05, 5.1940744e-05, 3.6581063e-03,\n",
       "       3.5549929e-05, 1.3684301e-04, 8.9475788e-02], dtype=float32)"
      ]
     },
     "execution_count": 205,
     "metadata": {},
     "output_type": "execute_result"
    }
   ],
   "source": [
    "\n",
    "pred = model_video.predict(frames)\n",
    "pred_video = np.mean(pred, axis=0)\n",
    "pred_video"
   ]
  },
  {
   "cell_type": "markdown",
   "metadata": {},
   "source": [
    "### Audio"
   ]
  },
  {
   "cell_type": "code",
   "execution_count": 206,
   "metadata": {},
   "outputs": [
    {
     "name": "stdout",
     "output_type": "stream",
     "text": [
      "\u001b[1m1/1\u001b[0m \u001b[32m━━━━━━━━━━━━━━━━━━━━\u001b[0m\u001b[37m\u001b[0m \u001b[1m0s\u001b[0m 108ms/step\n"
     ]
    },
    {
     "data": {
      "text/plain": [
       "array([8.6150266e-02, 5.6863673e-06, 1.0767372e-03, 7.4365824e-01,\n",
       "       1.5764482e-01, 1.1345545e-02, 1.1872195e-04], dtype=float32)"
      ]
     },
     "execution_count": 206,
     "metadata": {},
     "output_type": "execute_result"
    }
   ],
   "source": [
    "pred = model_audio.predict(mel)\n",
    "pred_audio = np.mean(pred, axis=0)\n",
    "pred_audio"
   ]
  },
  {
   "cell_type": "markdown",
   "metadata": {},
   "source": [
    "### Global"
   ]
  },
  {
   "cell_type": "code",
   "execution_count": 207,
   "metadata": {},
   "outputs": [],
   "source": [
    "pred_global = pred_video + pred_audio"
   ]
  },
  {
   "cell_type": "code",
   "execution_count": 208,
   "metadata": {},
   "outputs": [
    {
     "name": "stdout",
     "output_type": "stream",
     "text": [
      "Video prediction:\t angry\n",
      "Audio prediction:\t fear\n",
      "Global prediction:\t angry\n",
      "Ground truth:\t\t angry\n"
     ]
    }
   ],
   "source": [
    "print('Video prediction:\\t', emotions[pred_video.argmax()])\n",
    "print('Audio prediction:\\t', emotions[pred_audio.argmax()])\n",
    "print('Global prediction:\\t', emotions[pred_global.argmax()])\n",
    "\n",
    "print('Ground truth:\\t\\t', emotions[label])"
   ]
  },
  {
   "cell_type": "code",
   "execution_count": 209,
   "metadata": {},
   "outputs": [],
   "source": [
    "root = tk.Tk()\n",
    "root.title(\"Results predictions\")\n",
    "canvas1 = tk.Canvas(root, width=400, height=300, relief='raised')\n",
    "canvas1.pack()\n",
    "\n",
    "label1 = tk.Label(root, text=f'Video prediction:\\t{emotions[pred_video.argmax()]}')\n",
    "label2 = tk.Label(root, text=f'Audio prediction:\\t{emotions[pred_audio.argmax()]}')\n",
    "label3 = tk.Label(root, text=f'Global prediction:\\t{emotions[pred_global.argmax()]}')\n",
    "label4 = tk.Label(root, text=f'Ground truth:\\t{emotions[label]}')\n",
    "\n",
    "label1.config(font=('helvetica', 14))\n",
    "label2.config(font=('helvetica', 14))\n",
    "label3.config(font=('helvetica', 14))\n",
    "label4.config(font=('helvetica', 14), fg='gray')\n",
    "\n",
    "canvas1.create_window(20, 25, window=label1, anchor='w')\n",
    "canvas1.create_window(20, 50, window=label2, anchor='w')\n",
    "canvas1.create_window(20, 75, window=label3, anchor='w')\n",
    "canvas1.create_window(20, 120, window=label4, anchor='w')\n",
    "\n",
    "button1 = tk.Button(text='Close', command=lambda: root.destroy(), font=('helvetica', 12, 'bold'))\n",
    "canvas1.create_window(200, 200, window=button1)\n",
    "\n",
    "root.mainloop()"
   ]
  },
  {
   "cell_type": "code",
   "execution_count": null,
   "metadata": {},
   "outputs": [],
   "source": []
  },
  {
   "cell_type": "markdown",
   "metadata": {},
   "source": [
    "### "
   ]
  },
  {
   "cell_type": "code",
   "execution_count": null,
   "metadata": {},
   "outputs": [],
   "source": []
  },
  {
   "cell_type": "code",
   "execution_count": null,
   "metadata": {},
   "outputs": [],
   "source": []
  },
  {
   "cell_type": "code",
   "execution_count": null,
   "metadata": {},
   "outputs": [],
   "source": []
  }
 ],
 "metadata": {
  "kernelspec": {
   "display_name": "Python 3 (ipykernel)",
   "language": "python",
   "name": "python3"
  },
  "language_info": {
   "codemirror_mode": {
    "name": "ipython",
    "version": 3
   },
   "file_extension": ".py",
   "mimetype": "text/x-python",
   "name": "python",
   "nbconvert_exporter": "python",
   "pygments_lexer": "ipython3",
   "version": "3.11.5"
  },
  "vscode": {
   "interpreter": {
    "hash": "ad2bdc8ecc057115af97d19610ffacc2b4e99fae6737bb82f5d7fb13d2f2c186"
   }
  }
 },
 "nbformat": 4,
 "nbformat_minor": 2
}
